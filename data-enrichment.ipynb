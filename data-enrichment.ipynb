{
 "cells": [
  {
   "cell_type": "code",
   "execution_count": null,
   "metadata": {},
   "outputs": [],
   "source": [
    "import pandas as pd"
   ]
  },
  {
   "cell_type": "code",
   "execution_count": null,
   "metadata": {},
   "outputs": [],
   "source": [
    "df2 = pd.read_excel(\"LAhousing.xlsx\")"
   ]
  },
  {
   "cell_type": "code",
   "execution_count": null,
   "metadata": {},
   "outputs": [],
   "source": [
    "# figuring out nature of response for one example\n",
    "# outer response is for geo-encoding using coordinates(LAT,LON)\n",
    "# then state,county,tract,block info is extacted from response\n",
    "# which is in turn used to get demographic info from decennial sf1 dataset\n",
    "url = \"https://geocoding.geo.census.gov/geocoder/geographies/coordinates?x={}&y={}&benchmark=Public_AR_Census2020&vintage=Census2010_Census2020&format=json\".format(df2.iloc[3]['CENTER_LON'],df2.iloc[3]['CENTER_LAT'])\n",
    "try:\n",
    "    response = requests.get(url)\n",
    "    response.raise_for_status()\n",
    "    # access JSOn content\n",
    "    jsonResponse = response.json()\n",
    "    print(\"JSON response\")\n",
    "    #print(jsonResponse)\n",
    "    print(jsonResponse['result']['geographies'][\"States\"][0][\"STATE\"])\n",
    "    print(jsonResponse['result']['geographies'][\"Counties\"][0][\"COUNTY\"])\n",
    "    print(jsonResponse['result']['geographies'][\"Census Tracts\"][0][\"TRACT\"])\n",
    "    print(jsonResponse['result']['geographies'][\"Census Blocks\"][0][\"BLOCK\"])\n",
    "    #extract info om state,county,tract,block\n",
    "    a=jsonResponse['result']['geographies'][\"States\"][0][\"STATE\"]\n",
    "    b=jsonResponse['result']['geographies'][\"Counties\"][0][\"COUNTY\"]\n",
    "    c=jsonResponse['result']['geographies'][\"Census Tracts\"][0][\"TRACT\"]\n",
    "    d=jsonResponse['result']['geographies'][\"Census Blocks\"][0][\"BLOCK\"]\n",
    "    ur = \"https://api.census.gov/data/2010/dec/sf1?get=H001001,H010001,H011001,H003002,H003003,H012001,H012002,H012003,H013001,H002002,H002005,P001001,P016003,P013001,P017001,P002002,P002005,P035001,P037001&for=block:{}&in=state:{}&in=county:{}&in=tract:{}&key=90b6f9f89c549fc2bbcd126c0ba7227937d41d9c\".format(d,a,b,c)\n",
    "    try:\n",
    "        # get demographic info\n",
    "        res = requests.get(ur)\n",
    "        res.raise_for_status()\n",
    "        # access JSOn content\n",
    "        jsonRes = res.json()\n",
    "        print(jsonRes)\n",
    "    except HTTPError as http_err:\n",
    "        print(f'HTTP error occurred: {http_err}')\n",
    "    except Exception as err:\n",
    "        print(f'Other error occurred: {err}')\n",
    "except HTTPError as http_err:\n",
    "    print(f'HTTP error occurred: {http_err}')\n",
    "except Exception as err:\n",
    "    print(f'Other error occurred: {err}')\n",
    "    "
   ]
  },
  {
   "cell_type": "code",
   "execution_count": null,
   "metadata": {},
   "outputs": [],
   "source": [
    "# repeat for all data points\n",
    "l = []\n",
    "for i in range(len(df2)):\n",
    "    url = \"https://geocoding.geo.census.gov/geocoder/geographies/coordinates?x={}&y={}&benchmark=Public_AR_Census2020&vintage=Census2010_Census2020&format=json\".format(df2.iloc[i]['CENTER_LON'],df2.iloc[i]['CENTER_LAT'])\n",
    "    try:\n",
    "        response = requests.get(url)\n",
    "        response.raise_for_status()\n",
    "        jsonResponse = response.json()\n",
    "        print(i)\n",
    "        #print(jsonResponse['result']['geographies'][\"States\"][0][\"STATE\"])\n",
    "        #print(jsonResponse['result']['geographies'][\"Counties\"][0][\"COUNTY\"])\n",
    "        #print(jsonResponse['result']['geographies'][\"Census Tracts\"][0][\"TRACT\"])\n",
    "        #print(jsonResponse['result']['geographies'][\"Census Blocks\"][0][\"BLOCK\"])\n",
    "        a=jsonResponse['result']['geographies'][\"States\"][0][\"STATE\"]\n",
    "        b=jsonResponse['result']['geographies'][\"Counties\"][0][\"COUNTY\"]\n",
    "        c=jsonResponse['result']['geographies'][\"Census Tracts\"][0][\"TRACT\"]\n",
    "        d=jsonResponse['result']['geographies'][\"Census Blocks\"][0][\"BLOCK\"]\n",
    "        \n",
    "        # ask for values of different demographic variables\n",
    "        ur = \"https://api.census.gov/data/2010/dec/sf1?get=H001001,H010001,H011001,H003002,H003003,H012001,H012002,H012003,H013001,H002002,H002005,P001001,P016003,P013001,P017001,P002002,P002005,P035001,P037001&for=block:{}&in=state:{}&in=county:{}&in=tract:{}&key=90b6f9f89c549fc2bbcd126c0ba7227937d41d9c\".format(d,a,b,c)\n",
    "        try:\n",
    "            res = requests.get(ur)\n",
    "            res.raise_for_status()\n",
    "            jsonRes = res.json()\n",
    "            l.append(jsonRes[1][:19])\n",
    "            #print(jsonRes[1][:19])\n",
    "        except HTTPError as http_err:\n",
    "            print(f'HTTP error occurred2: {http_err}')\n",
    "            l.append([None]*19)\n",
    "        except Exception as err:\n",
    "            print(f'Other error occurred2: {err}')\n",
    "            l.append([None]*19)\n",
    "    except HTTPError as http_err:\n",
    "        print(f'HTTP error occurred1: {http_err}')\n",
    "    except Exception as err:\n",
    "        print(f'Other error occurred1: {err}') \n",
    "\n",
    "dfs = pd.DataFrame(l)"
   ]
  },
  {
   "cell_type": "code",
   "execution_count": null,
   "metadata": {},
   "outputs": [],
   "source": [
    "#Save result in a file\n",
    "dfs.to_csv(\"Demography_data.csv\",header=False,index=False)"
   ]
  }
 ],
 "metadata": {
  "kernelspec": {
   "display_name": "Python 3",
   "language": "python",
   "name": "python3"
  },
  "language_info": {
   "codemirror_mode": {
    "name": "ipython",
    "version": 3
   },
   "file_extension": ".py",
   "mimetype": "text/x-python",
   "name": "python",
   "nbconvert_exporter": "python",
   "pygments_lexer": "ipython3",
   "version": "3.8.5"
  }
 },
 "nbformat": 4,
 "nbformat_minor": 5
}
